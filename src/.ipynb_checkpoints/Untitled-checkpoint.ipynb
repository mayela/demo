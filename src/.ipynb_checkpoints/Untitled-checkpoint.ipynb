{
 "cells": [
  {
   "cell_type": "code",
   "execution_count": 1,
   "metadata": {
    "collapsed": false
   },
   "outputs": [
    {
     "name": "stdout",
     "output_type": "stream",
     "text": [
      "2\n",
      "2\n",
      "2\n"
     ]
    }
   ],
   "source": [
    "import math\n",
    "gustos = [('roberto', 'coca', 3), ('carlos', 'pepsi', 3.2), ('jorge', 'fanta', 2.1)]\n",
    "tamano_bebida = [('coca', 1.5), ('pepsi', 2.15), ('fanta', 2.0)]\n",
    "for i, j in zip(gustos, tamano_bebida):\n",
    "    if i[1] == j[0]:\n",
    "        print(math.ceil(i[2] / j[1]))\n"
   ]
  },
  {
   "cell_type": "code",
   "execution_count": 7,
   "metadata": {
    "collapsed": false
   },
   "outputs": [
    {
     "name": "stdout",
     "output_type": "stream",
     "text": [
      "matias\n"
     ]
    }
   ],
   "source": [
    "import operator\n",
    "\n",
    "mensajes = [('juan', 'pedro', 'hola como andas?'), ('agus', 'jorge', 'hola! todo bien?'), ('pedro', 'matias', 'buen dia matias!!')]\n",
    "\n",
    "#mensajes = [('juan', 'pedro', 'hola como andas?'), ('jorge', 'matias', 'hola! todo bien?'), ('pedro', 'matias', 'buen dia matias!!')]\n",
    "counter = {'jorge': 0, 'pedro': 0, 'matias': 0}\n",
    "for item in mensajes:\n",
    "    counter[item[1]] += len(item[2])\n",
    "    \n",
    "print(max(counter.items(), key=operator.itemgetter(1))[0])"
   ]
  },
  {
   "cell_type": "code",
   "execution_count": null,
   "metadata": {
    "collapsed": true
   },
   "outputs": [],
   "source": []
  },
  {
   "cell_type": "code",
   "execution_count": null,
   "metadata": {
    "collapsed": true
   },
   "outputs": [],
   "source": []
  },
  {
   "cell_type": "code",
   "execution_count": null,
   "metadata": {
    "collapsed": true
   },
   "outputs": [],
   "source": []
  }
 ],
 "metadata": {
  "kernelspec": {
   "display_name": "Python 3",
   "language": "python",
   "name": "python3"
  },
  "language_info": {
   "codemirror_mode": {
    "name": "ipython",
    "version": 3
   },
   "file_extension": ".py",
   "mimetype": "text/x-python",
   "name": "python",
   "nbconvert_exporter": "python",
   "pygments_lexer": "ipython3",
   "version": "3.5.1+"
  }
 },
 "nbformat": 4,
 "nbformat_minor": 0
}
