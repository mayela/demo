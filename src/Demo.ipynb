{
 "cells": [
  {
   "cell_type": "code",
   "execution_count": null,
   "metadata": {
    "collapsed": false
   },
   "outputs": [],
   "source": [
    "from termcolor import colored\n",
    "\n",
    "print(colored(\"Bienvenidos a DevNights!\", \"blue\"))"
   ]
  },
  {
   "cell_type": "markdown",
   "metadata": {
    "collapsed": true
   },
   "source": [
    "# Sintaxis"
   ]
  },
  {
   "cell_type": "code",
   "execution_count": null,
   "metadata": {
    "collapsed": false,
    "scrolled": true
   },
   "outputs": [],
   "source": [
    "import this"
   ]
  },
  {
   "cell_type": "markdown",
   "metadata": {},
   "source": [
    "## Tipos de datos"
   ]
  },
  {
   "cell_type": "code",
   "execution_count": null,
   "metadata": {
    "collapsed": false
   },
   "outputs": [],
   "source": [
    "entero =12\n",
    "flotante = 3.1416\n",
    "cadena = \"Live long and proper\"\n",
    "print(\"%d es un entero\" % entero)\n",
    "print(\"%f es un flotante\" % flotante)\n",
    "print(\"%s es una cadena\" % cadena)"
   ]
  },
  {
   "cell_type": "code",
   "execution_count": null,
   "metadata": {
    "collapsed": false
   },
   "outputs": [],
   "source": [
    "tupla = (2, 3, 6, 'pato', 5, 1)\n",
    "lista = [\"hola\", 3, 6, 4, \"amarillo\"]\n",
    "for t in tupla:\n",
    "    print(\"Elemento tupla: %s\" % t)\n",
    "for l in lista:\n",
    "    print(\"Elemento lista: %s\" % l)"
   ]
  },
  {
   "cell_type": "code",
   "execution_count": null,
   "metadata": {
    "collapsed": false
   },
   "outputs": [],
   "source": [
    "lista = [\"hola\", 3, 6, 4, \"amarillo\"]\n",
    "for l in lista:\n",
    "    if type(l) == str:\n",
    "        print(\"%s es una cadena\" % l)\n",
    "        print(l.lower())\n",
    "        print(l.upper())\n",
    "    else:\n",
    "        pass "
   ]
  },
  {
   "cell_type": "markdown",
   "metadata": {},
   "source": [
    "## Operadores"
   ]
  },
  {
   "cell_type": "code",
   "execution_count": null,
   "metadata": {
    "collapsed": false
   },
   "outputs": [],
   "source": [
    "a = 5\n",
    "b = 8\n",
    "\n",
    "# Suma\n",
    "print(a + b)\n",
    "# Resta\n",
    "print(a - b)\n",
    "# Multiplicación\n",
    "print(a * b)\n",
    "# División\n",
    "print(a / b)\n",
    "# Potencia\n",
    "print(a ** b)\n",
    "# \n",
    "print(a % b)"
   ]
  },
  {
   "cell_type": "code",
   "execution_count": null,
   "metadata": {
    "collapsed": false,
    "scrolled": true
   },
   "outputs": [],
   "source": [
    "for i in range(1,10):\n",
    "    print(i)"
   ]
  },
  {
   "cell_type": "code",
   "execution_count": null,
   "metadata": {
    "collapsed": false
   },
   "outputs": [],
   "source": [
    "def hola(nombre):\n",
    "    print(\"Hola %s!\" % nombre)\n",
    "hola()"
   ]
  },
  {
   "cell_type": "code",
   "execution_count": null,
   "metadata": {
    "collapsed": false
   },
   "outputs": [],
   "source": [
    "import os\n",
    "import base64\n",
    "\n",
    "files = os.listdir(\".\")\n",
    "for item in files:\n",
    "    if os.path.isfile(item):\n",
    "        with open(item, \"rb\") as image:\n",
    "            encode_image = base64.b64encode(image.read())\n",
    "            encode_image = encode_image.decode(\"ascii\")\n",
    "            print(\"%s, %s\"%(item, encode_image))\n",
    "    else:\n",
    "        pass"
   ]
  },
  {
   "cell_type": "code",
   "execution_count": null,
   "metadata": {
    "collapsed": false
   },
   "outputs": [],
   "source": [
    "from PIL import Image\n",
    "guido = Image.open(\"guidovanrossum.jpg\")\n",
    "guido.show()\n",
    "help(guido.resize)"
   ]
  },
  {
   "cell_type": "code",
   "execution_count": null,
   "metadata": {
    "collapsed": true
   },
   "outputs": [],
   "source": [
    "from PIL import Image\n",
    "salute = Image.open(\"salute.jpg\")\n",
    "salute.show()"
   ]
  }
 ],
 "metadata": {
  "kernelspec": {
   "display_name": "Python 3",
   "language": "python",
   "name": "python3"
  },
  "language_info": {
   "codemirror_mode": {
    "name": "ipython",
    "version": 3
   },
   "file_extension": ".py",
   "mimetype": "text/x-python",
   "name": "python",
   "nbconvert_exporter": "python",
   "pygments_lexer": "ipython3",
   "version": "3.5.1+"
  }
 },
 "nbformat": 4,
 "nbformat_minor": 0
}
